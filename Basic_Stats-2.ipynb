{
 "cells": [
  {
   "cell_type": "markdown",
   "id": "86181bc9-0125-4d4e-95c7-cefd5415e6e9",
   "metadata": {},
   "source": [
    "# Estimation And Confidence Intervals\n"
   ]
  },
  {
   "cell_type": "markdown",
   "id": "5433ce4c-0c4b-48ca-96ae-c61d74b187d3",
   "metadata": {},
   "source": [
    "## Data\n",
    "### A total of 15 print-heads were randomly selected and tested until failure. The durability of each print-head (in millions of characters) was recorded as follows:\n",
    "#### 1.13, 1.55, 1.43, 0.92, 1.25, 1.36, 1.32, 0.85, 1.07, 1.48, 1.20, 1.33, 1.18, 1.22, 1.29\n"
   ]
  },
  {
   "cell_type": "markdown",
   "id": "e266fa2f-2825-4626-bee4-9871053d7a55",
   "metadata": {},
   "source": [
    "### Assignment Tasks\n",
    "#### a. Build 99% Confidence Interval Using Sample Standard Deviation\n"
   ]
  },
  {
   "cell_type": "code",
   "execution_count": 2,
   "id": "3979926a-e623-44d5-bd9d-384ab2e5108e",
   "metadata": {},
   "outputs": [
    {
     "name": "stdout",
     "output_type": "stream",
     "text": [
      "Sample Size (n): 15\n",
      "Sample Mean (x̄): 1.2387\n",
      "Sample Standard Deviation (s): 0.1932\n",
      "\n",
      "Part (a) - Using Sample Standard Deviation (t-distribution):\n",
      "t-critical value: 2.9768\n",
      "Margin of Error: 0.1485\n",
      "99% Confidence Interval: (1.0902, 1.3871)\n"
     ]
    }
   ],
   "source": [
    "import numpy as np\n",
    "import scipy.stats as stats\n",
    "\n",
    "durability = np.array([1.13, 1.55, 1.43, 0.92, 1.25, 1.36, 1.32, 0.85, 1.07,\n",
    "                       1.48, 1.20, 1.33, 1.18, 1.22, 1.29])\n",
    "\n",
    "n = len(durability)\n",
    "mean = np.mean(durability)\n",
    "sample_std = np.std(durability, ddof=1)  \n",
    "print(f\"Sample Size (n): {n}\")\n",
    "print(f\"Sample Mean (x̄): {mean:.4f}\")\n",
    "print(f\"Sample Standard Deviation (s): {sample_std:.4f}\")\n",
    "\n",
    "confidence = 0.99\n",
    "alpha = 1 - confidence\n",
    "df = n - 1\n",
    "t_crit = stats.t.ppf(1 - alpha/2, df)\n",
    "\n",
    "margin_error_a = t_crit * (sample_std / np.sqrt(n))\n",
    "ci_lower_a = mean - margin_error_a\n",
    "ci_upper_a = mean + margin_error_a\n",
    "\n",
    "print(\"\\nPart (a) - Using Sample Standard Deviation (t-distribution):\")\n",
    "print(f\"t-critical value: {t_crit:.4f}\")\n",
    "print(f\"Margin of Error: {margin_error_a:.4f}\")\n",
    "print(f\"99% Confidence Interval: ({ci_lower_a:.4f}, {ci_upper_a:.4f})\")"
   ]
  },
  {
   "cell_type": "markdown",
   "id": "a518da79-2281-49a7-97f3-bfe5b6bab821",
   "metadata": {},
   "source": [
    "### b. Build 99% Confidence Interval Using Known Population Standard Deviation\n"
   ]
  },
  {
   "cell_type": "code",
   "execution_count": 4,
   "id": "6499e924-461d-47dc-8dc8-db559489c27b",
   "metadata": {},
   "outputs": [
    {
     "name": "stdout",
     "output_type": "stream",
     "text": [
      "\n",
      "Part (b) - Using Known Population Standard Deviation (z-distribution):\n",
      "z-critical value: 2.5758\n",
      "Margin of Error: 0.1330\n",
      "99% Confidence Interval: (1.1057, 1.3717)\n"
     ]
    }
   ],
   "source": [
    "pop_std = 0.2  \n",
    "z_crit = stats.norm.ppf(1 - alpha/2)\n",
    "\n",
    "margin_error_b = z_crit * (pop_std / np.sqrt(n))\n",
    "ci_lower_b = mean - margin_error_b\n",
    "ci_upper_b = mean + margin_error_b\n",
    "\n",
    "print(\"\\nPart (b) - Using Known Population Standard Deviation (z-distribution):\")\n",
    "print(f\"z-critical value: {z_crit:.4f}\")\n",
    "print(f\"Margin of Error: {margin_error_b:.4f}\")\n",
    "print(f\"99% Confidence Interval: ({ci_lower_b:.4f}, {ci_upper_b:.4f})\")"
   ]
  },
  {
   "cell_type": "code",
   "execution_count": null,
   "id": "07fc98ec-40b8-45e2-9334-512bd3698e1a",
   "metadata": {},
   "outputs": [],
   "source": []
  },
  {
   "cell_type": "code",
   "execution_count": null,
   "id": "6e5319a6-ac61-49a3-9f0a-6a557cfef814",
   "metadata": {},
   "outputs": [],
   "source": []
  },
  {
   "cell_type": "code",
   "execution_count": null,
   "id": "a53c6053-8cf3-4163-ba6d-59f2040e4b2e",
   "metadata": {},
   "outputs": [],
   "source": []
  },
  {
   "cell_type": "code",
   "execution_count": null,
   "id": "298b9444-ae6a-4ff8-82b7-d156d2308816",
   "metadata": {},
   "outputs": [],
   "source": []
  },
  {
   "cell_type": "code",
   "execution_count": null,
   "id": "f6a28e78-cfba-4ca3-9eb0-b0bd39f5a505",
   "metadata": {},
   "outputs": [],
   "source": []
  },
  {
   "cell_type": "code",
   "execution_count": null,
   "id": "8e5e77be-2e60-4ed6-b19c-9aa3cea903bf",
   "metadata": {},
   "outputs": [],
   "source": []
  },
  {
   "cell_type": "code",
   "execution_count": null,
   "id": "5b74e86d-2b04-4f55-a4b6-a8f8490f2314",
   "metadata": {},
   "outputs": [],
   "source": []
  },
  {
   "cell_type": "code",
   "execution_count": null,
   "id": "48542c31-d969-4155-8655-00d66c60228f",
   "metadata": {},
   "outputs": [],
   "source": []
  },
  {
   "cell_type": "code",
   "execution_count": null,
   "id": "0f3fdca3-e399-4e93-aad3-e3b03e9476aa",
   "metadata": {},
   "outputs": [],
   "source": []
  }
 ],
 "metadata": {
  "kernelspec": {
   "display_name": "Python 3 (ipykernel)",
   "language": "python",
   "name": "python3"
  },
  "language_info": {
   "codemirror_mode": {
    "name": "ipython",
    "version": 3
   },
   "file_extension": ".py",
   "mimetype": "text/x-python",
   "name": "python",
   "nbconvert_exporter": "python",
   "pygments_lexer": "ipython3",
   "version": "3.12.7"
  }
 },
 "nbformat": 4,
 "nbformat_minor": 5
}
